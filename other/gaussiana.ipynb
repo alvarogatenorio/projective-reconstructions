{
 "cells": [
  {
   "cell_type": "code",
   "execution_count": 2,
   "metadata": {},
   "outputs": [],
   "source": [
    "%display latex"
   ]
  },
  {
   "cell_type": "code",
   "execution_count": 3,
   "metadata": {},
   "outputs": [
    {
     "data": {
      "text/html": [
       "<html><script type=\"math/tex; mode=display\">\\newcommand{\\Bold}[1]{\\mathbf{#1}}\\left(x, y, \\sigma\\right)</script></html>"
      ],
      "text/plain": [
       "(x, y, sigma)"
      ]
     },
     "execution_count": 3,
     "metadata": {},
     "output_type": "execute_result"
    }
   ],
   "source": [
    "var('x y sigma')"
   ]
  },
  {
   "cell_type": "code",
   "execution_count": 4,
   "metadata": {},
   "outputs": [
    {
     "data": {
      "text/html": [
       "<html><script type=\"math/tex; mode=display\">\\newcommand{\\Bold}[1]{\\mathbf{#1}}\\frac{e^{\\left(-\\frac{x^{2} + y^{2}}{2 \\, \\sigma^{2}}\\right)}}{2 \\, \\pi \\sigma^{2}}</script></html>"
      ],
      "text/plain": [
       "1/2*e^(-1/2*(x^2 + y^2)/sigma^2)/(pi*sigma^2)"
      ]
     },
     "execution_count": 4,
     "metadata": {},
     "output_type": "execute_result"
    }
   ],
   "source": [
    "# Función gaussiana en dos variables\n",
    "g = 1 / ( 2 * pi * sigma ^ 2 ) * exp( ( - x ^ 2 - y ^ 2 ) / ( 2 * sigma ^ 2 ) )"
   ]
  },
  {
   "cell_type": "code",
   "execution_count": 8,
   "metadata": {},
   "outputs": [
    {
     "data": {
      "text/html": [
       "<html><script type=\"math/tex; mode=display\">\\newcommand{\\Bold}[1]{\\mathbf{#1}}-\\frac{e^{\\left(-\\frac{x^{2} + y^{2}}{2 \\, \\sigma^{2}}\\right)}}{2 \\, \\pi \\sigma^{4}} + \\frac{x^{2} e^{\\left(-\\frac{x^{2} + y^{2}}{2 \\, \\sigma^{2}}\\right)}}{2 \\, \\pi \\sigma^{6}}</script></html>"
      ],
      "text/plain": [
       "-1/2*e^(-1/2*(x^2 + y^2)/sigma^2)/(pi*sigma^4) + 1/2*x^2*e^(-1/2*(x^2 + y^2)/sigma^2)/(pi*sigma^6)"
      ]
     },
     "execution_count": 8,
     "metadata": {},
     "output_type": "execute_result"
    }
   ],
   "source": [
    "# Derivadas parciales de la gaussiana\n",
    "gx = g.diff(x)\n",
    "gy = g.diff(y)\n",
    "\n",
    "# Derivadas parciales segundas de la gaussiana\n",
    "gxx = gx.diff(x)\n",
    "gyy = gy.diff(y)\n",
    "gxy = gx.diff(y)"
   ]
  },
  {
   "cell_type": "code",
   "execution_count": 10,
   "metadata": {},
   "outputs": [
    {
     "data": {
      "text/html": [
       "<html><script type=\"math/tex; mode=display\">\\newcommand{\\Bold}[1]{\\mathbf{#1}}\\left(\\frac{3 \\, x e^{\\left(-\\frac{x^{2} + y^{2}}{2 \\, \\sigma^{2}}\\right)}}{2 \\, \\pi \\sigma^{6}} - \\frac{x^{3} e^{\\left(-\\frac{x^{2} + y^{2}}{2 \\, \\sigma^{2}}\\right)}}{2 \\, \\pi \\sigma^{8}}, \\frac{y e^{\\left(-\\frac{x^{2} + y^{2}}{2 \\, \\sigma^{2}}\\right)}}{2 \\, \\pi \\sigma^{6}} - \\frac{x^{2} y e^{\\left(-\\frac{x^{2} + y^{2}}{2 \\, \\sigma^{2}}\\right)}}{2 \\, \\pi \\sigma^{8}}\\right)</script></html>"
      ],
      "text/plain": [
       "(3/2*x*e^(-1/2*(x^2 + y^2)/sigma^2)/(pi*sigma^6) - 1/2*x^3*e^(-1/2*(x^2 + y^2)/sigma^2)/(pi*sigma^8),\n",
       " 1/2*y*e^(-1/2*(x^2 + y^2)/sigma^2)/(pi*sigma^6) - 1/2*x^2*y*e^(-1/2*(x^2 + y^2)/sigma^2)/(pi*sigma^8))"
      ]
     },
     "execution_count": 10,
     "metadata": {},
     "output_type": "execute_result"
    }
   ],
   "source": [
    "# Derivadas parciales de la derivada xx de la gaussiana\n",
    "gxxx = gxx.diff(x)\n",
    "gxxy = gxx.diff(y)\n",
    "\n",
    "# Derivadas parciales segundas de la derivada xx de la gaussiana\n",
    "gxxxx = gxxx.diff(x)\n",
    "gxxyy = gxxy.diff(y)\n",
    "gxxxy = gxxx.diff(y)"
   ]
  },
  {
   "cell_type": "code",
   "execution_count": 11,
   "metadata": {},
   "outputs": [
    {
     "data": {
      "text/html": [
       "<html><script type=\"math/tex; mode=display\">\\newcommand{\\Bold}[1]{\\mathbf{#1}}\\left(\\frac{x e^{\\left(-\\frac{x^{2} + y^{2}}{2 \\, \\sigma^{2}}\\right)}}{2 \\, \\pi \\sigma^{6}} - \\frac{x y^{2} e^{\\left(-\\frac{x^{2} + y^{2}}{2 \\, \\sigma^{2}}\\right)}}{2 \\, \\pi \\sigma^{8}}, \\frac{3 \\, y e^{\\left(-\\frac{x^{2} + y^{2}}{2 \\, \\sigma^{2}}\\right)}}{2 \\, \\pi \\sigma^{6}} - \\frac{y^{3} e^{\\left(-\\frac{x^{2} + y^{2}}{2 \\, \\sigma^{2}}\\right)}}{2 \\, \\pi \\sigma^{8}}\\right)</script></html>"
      ],
      "text/plain": [
       "(1/2*x*e^(-1/2*(x^2 + y^2)/sigma^2)/(pi*sigma^6) - 1/2*x*y^2*e^(-1/2*(x^2 + y^2)/sigma^2)/(pi*sigma^8),\n",
       " 3/2*y*e^(-1/2*(x^2 + y^2)/sigma^2)/(pi*sigma^6) - 1/2*y^3*e^(-1/2*(x^2 + y^2)/sigma^2)/(pi*sigma^8))"
      ]
     },
     "execution_count": 11,
     "metadata": {},
     "output_type": "execute_result"
    }
   ],
   "source": [
    "# Derivadas parciales de la derivada yy de la gaussiana\n",
    "gyyx = gyy.diff(x)\n",
    "gyyy = gyy.diff(y)\n",
    "\n",
    "# Derivadas parciales segundas de la derivada yy de la gaussiana\n",
    "gyyxx = gyyx.diff(x)\n",
    "gyyyy = gyyy.diff(y)\n",
    "gyyxy = gyyx.diff(y)"
   ]
  },
  {
   "cell_type": "code",
   "execution_count": 12,
   "metadata": {},
   "outputs": [
    {
     "data": {
      "text/html": [
       "<html><script type=\"math/tex; mode=display\">\\newcommand{\\Bold}[1]{\\mathbf{#1}}\\left(\\frac{y e^{\\left(-\\frac{x^{2} + y^{2}}{2 \\, \\sigma^{2}}\\right)}}{2 \\, \\pi \\sigma^{6}} - \\frac{x^{2} y e^{\\left(-\\frac{x^{2} + y^{2}}{2 \\, \\sigma^{2}}\\right)}}{2 \\, \\pi \\sigma^{8}}, \\frac{x e^{\\left(-\\frac{x^{2} + y^{2}}{2 \\, \\sigma^{2}}\\right)}}{2 \\, \\pi \\sigma^{6}} - \\frac{x y^{2} e^{\\left(-\\frac{x^{2} + y^{2}}{2 \\, \\sigma^{2}}\\right)}}{2 \\, \\pi \\sigma^{8}}\\right)</script></html>"
      ],
      "text/plain": [
       "(1/2*y*e^(-1/2*(x^2 + y^2)/sigma^2)/(pi*sigma^6) - 1/2*x^2*y*e^(-1/2*(x^2 + y^2)/sigma^2)/(pi*sigma^8),\n",
       " 1/2*x*e^(-1/2*(x^2 + y^2)/sigma^2)/(pi*sigma^6) - 1/2*x*y^2*e^(-1/2*(x^2 + y^2)/sigma^2)/(pi*sigma^8))"
      ]
     },
     "execution_count": 12,
     "metadata": {},
     "output_type": "execute_result"
    }
   ],
   "source": [
    "# Derivadas parciales de la derivada xy de la gaussiana\n",
    "gxyx = gxy.diff(x)\n",
    "gxyy = gxy.diff(y)\n",
    "\n",
    "# Derivadas parciales segundas de la derivada xy de la gaussiana\n",
    "gxyxx = gxyx.diff(x)\n",
    "gxyyy = gxyy.diff(y)"
   ]
  },
  {
   "cell_type": "code",
   "execution_count": 13,
   "metadata": {},
   "outputs": [
    {
     "data": {
      "text/html": [
       "<html><script type=\"math/tex; mode=display\">\\newcommand{\\Bold}[1]{\\mathbf{#1}}\\left(\\begin{array}{rr}\n",
       "\\frac{3 \\, e^{\\left(-\\frac{x^{2} + y^{2}}{2 \\, \\sigma^{2}}\\right)}}{2 \\, \\pi \\sigma^{6}} - \\frac{3 \\, x^{2} e^{\\left(-\\frac{x^{2} + y^{2}}{2 \\, \\sigma^{2}}\\right)}}{\\pi \\sigma^{8}} + \\frac{x^{4} e^{\\left(-\\frac{x^{2} + y^{2}}{2 \\, \\sigma^{2}}\\right)}}{2 \\, \\pi \\sigma^{10}} & -\\frac{3 \\, x y e^{\\left(-\\frac{x^{2} + y^{2}}{2 \\, \\sigma^{2}}\\right)}}{2 \\, \\pi \\sigma^{8}} + \\frac{x^{3} y e^{\\left(-\\frac{x^{2} + y^{2}}{2 \\, \\sigma^{2}}\\right)}}{2 \\, \\pi \\sigma^{10}} \\\\\n",
       "-\\frac{3 \\, x y e^{\\left(-\\frac{x^{2} + y^{2}}{2 \\, \\sigma^{2}}\\right)}}{2 \\, \\pi \\sigma^{8}} + \\frac{x^{3} y e^{\\left(-\\frac{x^{2} + y^{2}}{2 \\, \\sigma^{2}}\\right)}}{2 \\, \\pi \\sigma^{10}} & \\frac{e^{\\left(-\\frac{x^{2} + y^{2}}{2 \\, \\sigma^{2}}\\right)}}{2 \\, \\pi \\sigma^{6}} - \\frac{x^{2} e^{\\left(-\\frac{x^{2} + y^{2}}{2 \\, \\sigma^{2}}\\right)}}{2 \\, \\pi \\sigma^{8}} - \\frac{y^{2} e^{\\left(-\\frac{x^{2} + y^{2}}{2 \\, \\sigma^{2}}\\right)}}{2 \\, \\pi \\sigma^{8}} + \\frac{x^{2} y^{2} e^{\\left(-\\frac{x^{2} + y^{2}}{2 \\, \\sigma^{2}}\\right)}}{2 \\, \\pi \\sigma^{10}}\n",
       "\\end{array}\\right)</script></html>"
      ],
      "text/plain": [
       "[                                                          3/2*e^(-1/2*(x^2 + y^2)/sigma^2)/(pi*sigma^6) - 3*x^2*e^(-1/2*(x^2 + y^2)/sigma^2)/(pi*sigma^8) + 1/2*x^4*e^(-1/2*(x^2 + y^2)/sigma^2)/(pi*sigma^10)                                                                                                      -3/2*x*y*e^(-1/2*(x^2 + y^2)/sigma^2)/(pi*sigma^8) + 1/2*x^3*y*e^(-1/2*(x^2 + y^2)/sigma^2)/(pi*sigma^10)]\n",
       "[                                                                                                     -3/2*x*y*e^(-1/2*(x^2 + y^2)/sigma^2)/(pi*sigma^8) + 1/2*x^3*y*e^(-1/2*(x^2 + y^2)/sigma^2)/(pi*sigma^10) 1/2*e^(-1/2*(x^2 + y^2)/sigma^2)/(pi*sigma^6) - 1/2*x^2*e^(-1/2*(x^2 + y^2)/sigma^2)/(pi*sigma^8) - 1/2*y^2*e^(-1/2*(x^2 + y^2)/sigma^2)/(pi*sigma^8) + 1/2*x^2*y^2*e^(-1/2*(x^2 + y^2)/sigma^2)/(pi*sigma^10)]"
      ]
     },
     "execution_count": 13,
     "metadata": {},
     "output_type": "execute_result"
    }
   ],
   "source": [
    "# Matriz hessiana de la derivada xx de la gaussiana\n",
    "Hxx = matrix([[gxxxx,gxxxy],[gxxxy,gxxyy]])"
   ]
  },
  {
   "cell_type": "code",
   "execution_count": 14,
   "metadata": {},
   "outputs": [
    {
     "data": {
      "text/html": [
       "<html><script type=\"math/tex; mode=display\">\\newcommand{\\Bold}[1]{\\mathbf{#1}}\\left(\\begin{array}{rr}\n",
       "\\frac{e^{\\left(-\\frac{x^{2} + y^{2}}{2 \\, \\sigma^{2}}\\right)}}{2 \\, \\pi \\sigma^{6}} - \\frac{x^{2} e^{\\left(-\\frac{x^{2} + y^{2}}{2 \\, \\sigma^{2}}\\right)}}{2 \\, \\pi \\sigma^{8}} - \\frac{y^{2} e^{\\left(-\\frac{x^{2} + y^{2}}{2 \\, \\sigma^{2}}\\right)}}{2 \\, \\pi \\sigma^{8}} + \\frac{x^{2} y^{2} e^{\\left(-\\frac{x^{2} + y^{2}}{2 \\, \\sigma^{2}}\\right)}}{2 \\, \\pi \\sigma^{10}} & -\\frac{3 \\, x y e^{\\left(-\\frac{x^{2} + y^{2}}{2 \\, \\sigma^{2}}\\right)}}{2 \\, \\pi \\sigma^{8}} + \\frac{x y^{3} e^{\\left(-\\frac{x^{2} + y^{2}}{2 \\, \\sigma^{2}}\\right)}}{2 \\, \\pi \\sigma^{10}} \\\\\n",
       "-\\frac{3 \\, x y e^{\\left(-\\frac{x^{2} + y^{2}}{2 \\, \\sigma^{2}}\\right)}}{2 \\, \\pi \\sigma^{8}} + \\frac{x y^{3} e^{\\left(-\\frac{x^{2} + y^{2}}{2 \\, \\sigma^{2}}\\right)}}{2 \\, \\pi \\sigma^{10}} & \\frac{3 \\, e^{\\left(-\\frac{x^{2} + y^{2}}{2 \\, \\sigma^{2}}\\right)}}{2 \\, \\pi \\sigma^{6}} - \\frac{3 \\, y^{2} e^{\\left(-\\frac{x^{2} + y^{2}}{2 \\, \\sigma^{2}}\\right)}}{\\pi \\sigma^{8}} + \\frac{y^{4} e^{\\left(-\\frac{x^{2} + y^{2}}{2 \\, \\sigma^{2}}\\right)}}{2 \\, \\pi \\sigma^{10}}\n",
       "\\end{array}\\right)</script></html>"
      ],
      "text/plain": [
       "[1/2*e^(-1/2*(x^2 + y^2)/sigma^2)/(pi*sigma^6) - 1/2*x^2*e^(-1/2*(x^2 + y^2)/sigma^2)/(pi*sigma^8) - 1/2*y^2*e^(-1/2*(x^2 + y^2)/sigma^2)/(pi*sigma^8) + 1/2*x^2*y^2*e^(-1/2*(x^2 + y^2)/sigma^2)/(pi*sigma^10)                                                                                                      -3/2*x*y*e^(-1/2*(x^2 + y^2)/sigma^2)/(pi*sigma^8) + 1/2*x*y^3*e^(-1/2*(x^2 + y^2)/sigma^2)/(pi*sigma^10)]\n",
       "[                                                                                                     -3/2*x*y*e^(-1/2*(x^2 + y^2)/sigma^2)/(pi*sigma^8) + 1/2*x*y^3*e^(-1/2*(x^2 + y^2)/sigma^2)/(pi*sigma^10)                                                           3/2*e^(-1/2*(x^2 + y^2)/sigma^2)/(pi*sigma^6) - 3*y^2*e^(-1/2*(x^2 + y^2)/sigma^2)/(pi*sigma^8) + 1/2*y^4*e^(-1/2*(x^2 + y^2)/sigma^2)/(pi*sigma^10)]"
      ]
     },
     "execution_count": 14,
     "metadata": {},
     "output_type": "execute_result"
    }
   ],
   "source": [
    "# Matriz hessiana de la derivada yy de la gaussiana\n",
    "Hyy = matrix([[gyyxx,gyyxy],[gyyxy,gyyyy]])"
   ]
  },
  {
   "cell_type": "code",
   "execution_count": 15,
   "metadata": {},
   "outputs": [
    {
     "data": {
      "text/html": [
       "<html><script type=\"math/tex; mode=display\">\\newcommand{\\Bold}[1]{\\mathbf{#1}}\\left(\\begin{array}{rr}\n",
       "-\\frac{3 \\, x y e^{\\left(-\\frac{x^{2} + y^{2}}{2 \\, \\sigma^{2}}\\right)}}{2 \\, \\pi \\sigma^{8}} + \\frac{x^{3} y e^{\\left(-\\frac{x^{2} + y^{2}}{2 \\, \\sigma^{2}}\\right)}}{2 \\, \\pi \\sigma^{10}} & \\frac{e^{\\left(-\\frac{x^{2} + y^{2}}{2 \\, \\sigma^{2}}\\right)}}{2 \\, \\pi \\sigma^{6}} - \\frac{x^{2} e^{\\left(-\\frac{x^{2} + y^{2}}{2 \\, \\sigma^{2}}\\right)}}{2 \\, \\pi \\sigma^{8}} - \\frac{y^{2} e^{\\left(-\\frac{x^{2} + y^{2}}{2 \\, \\sigma^{2}}\\right)}}{2 \\, \\pi \\sigma^{8}} + \\frac{x^{2} y^{2} e^{\\left(-\\frac{x^{2} + y^{2}}{2 \\, \\sigma^{2}}\\right)}}{2 \\, \\pi \\sigma^{10}} \\\\\n",
       "\\frac{e^{\\left(-\\frac{x^{2} + y^{2}}{2 \\, \\sigma^{2}}\\right)}}{2 \\, \\pi \\sigma^{6}} - \\frac{x^{2} e^{\\left(-\\frac{x^{2} + y^{2}}{2 \\, \\sigma^{2}}\\right)}}{2 \\, \\pi \\sigma^{8}} - \\frac{y^{2} e^{\\left(-\\frac{x^{2} + y^{2}}{2 \\, \\sigma^{2}}\\right)}}{2 \\, \\pi \\sigma^{8}} + \\frac{x^{2} y^{2} e^{\\left(-\\frac{x^{2} + y^{2}}{2 \\, \\sigma^{2}}\\right)}}{2 \\, \\pi \\sigma^{10}} & -\\frac{3 \\, x y e^{\\left(-\\frac{x^{2} + y^{2}}{2 \\, \\sigma^{2}}\\right)}}{2 \\, \\pi \\sigma^{8}} + \\frac{x y^{3} e^{\\left(-\\frac{x^{2} + y^{2}}{2 \\, \\sigma^{2}}\\right)}}{2 \\, \\pi \\sigma^{10}}\n",
       "\\end{array}\\right)</script></html>"
      ],
      "text/plain": [
       "[                                                                                                     -3/2*x*y*e^(-1/2*(x^2 + y^2)/sigma^2)/(pi*sigma^8) + 1/2*x^3*y*e^(-1/2*(x^2 + y^2)/sigma^2)/(pi*sigma^10) 1/2*e^(-1/2*(x^2 + y^2)/sigma^2)/(pi*sigma^6) - 1/2*x^2*e^(-1/2*(x^2 + y^2)/sigma^2)/(pi*sigma^8) - 1/2*y^2*e^(-1/2*(x^2 + y^2)/sigma^2)/(pi*sigma^8) + 1/2*x^2*y^2*e^(-1/2*(x^2 + y^2)/sigma^2)/(pi*sigma^10)]\n",
       "[1/2*e^(-1/2*(x^2 + y^2)/sigma^2)/(pi*sigma^6) - 1/2*x^2*e^(-1/2*(x^2 + y^2)/sigma^2)/(pi*sigma^8) - 1/2*y^2*e^(-1/2*(x^2 + y^2)/sigma^2)/(pi*sigma^8) + 1/2*x^2*y^2*e^(-1/2*(x^2 + y^2)/sigma^2)/(pi*sigma^10)                                                                                                      -3/2*x*y*e^(-1/2*(x^2 + y^2)/sigma^2)/(pi*sigma^8) + 1/2*x*y^3*e^(-1/2*(x^2 + y^2)/sigma^2)/(pi*sigma^10)]"
      ]
     },
     "execution_count": 15,
     "metadata": {},
     "output_type": "execute_result"
    }
   ],
   "source": [
    "# Matriz hessiana de la derivada xy de la gaussiana\n",
    "Hxy = matrix([[gxyxx,gxyxy],[gxyxy,gxyyy]])"
   ]
  },
  {
   "cell_type": "code",
   "execution_count": 105,
   "metadata": {},
   "outputs": [
    {
     "data": {
      "text/html": [
       "<html><script type=\"math/tex; mode=display\">\\newcommand{\\Bold}[1]{\\mathbf{#1}}\\left[\\left[x = 0, y = 0\\right], \\left[x = -\\sqrt{3} \\sigma, y = 0\\right], \\left[x = \\sqrt{3} \\sigma, y = 0\\right]\\right]</script></html>"
      ],
      "text/plain": [
       "[[x == 0, y == 0], [x == -sqrt(3)*sigma, y == 0], [x == sqrt(3)*sigma, y == 0]]"
      ]
     },
     "execution_count": 105,
     "metadata": {},
     "output_type": "execute_result"
    }
   ],
   "source": [
    "# Puntos críticos de la derivada xx de la gaussiana\n",
    "Sxx = solve([gxx.diff(x),gxx.diff(y)],x,y)"
   ]
  },
  {
   "cell_type": "code",
   "execution_count": 106,
   "metadata": {},
   "outputs": [
    {
     "data": {
      "text/html": [
       "<html><script type=\"math/tex; mode=display\">\\newcommand{\\Bold}[1]{\\mathbf{#1}}\\left[\\left[x = 0, y = 0\\right], \\left[x = 0, y = -\\sqrt{3} \\sigma\\right], \\left[x = 0, y = \\sqrt{3} \\sigma\\right]\\right]</script></html>"
      ],
      "text/plain": [
       "[[x == 0, y == 0], [x == 0, y == -sqrt(3)*sigma], [x == 0, y == sqrt(3)*sigma]]"
      ]
     },
     "execution_count": 106,
     "metadata": {},
     "output_type": "execute_result"
    }
   ],
   "source": [
    "# Puntos críticos de la derivada yy de la gaussiana\n",
    "Syy = solve([gyy.diff(x),gyy.diff(y)],x,y)"
   ]
  },
  {
   "cell_type": "code",
   "execution_count": 107,
   "metadata": {},
   "outputs": [
    {
     "data": {
      "text/html": [
       "<html><script type=\"math/tex; mode=display\">\\newcommand{\\Bold}[1]{\\mathbf{#1}}\\left[\\left[x = 0, y = 0\\right], \\left[x = -\\sigma, y = -\\sigma\\right], \\left[x = \\sigma, y = -\\sigma\\right], \\left[x = -\\sigma, y = \\sigma\\right], \\left[x = \\sigma, y = \\sigma\\right]\\right]</script></html>"
      ],
      "text/plain": [
       "[[x == 0, y == 0], [x == -sigma, y == -sigma], [x == sigma, y == -sigma], [x == -sigma, y == sigma], [x == sigma, y == sigma]]"
      ]
     },
     "execution_count": 107,
     "metadata": {},
     "output_type": "execute_result"
    }
   ],
   "source": [
    "# Puntos críticos de la derivada xy de la gaussiana\n",
    "Sxy = solve([gxy.diff(x),gxy.diff(y)],x,y)"
   ]
  },
  {
   "cell_type": "code",
   "execution_count": 108,
   "metadata": {},
   "outputs": [
    {
     "data": {
      "text/html": [
       "<html><script type=\"math/tex; mode=display\">\\newcommand{\\Bold}[1]{\\mathbf{#1}}\\left[\\left(\\begin{array}{rr}\n",
       "0 & \\frac{1}{2 \\, \\pi \\sigma^{6}} \\\\\n",
       "\\frac{1}{2 \\, \\pi \\sigma^{6}} & 0\n",
       "\\end{array}\\right), \\left(\\begin{array}{rr}\n",
       "-\\frac{e^{\\left(-1\\right)}}{\\pi \\sigma^{6}} & 0 \\\\\n",
       "0 & -\\frac{e^{\\left(-1\\right)}}{\\pi \\sigma^{6}}\n",
       "\\end{array}\\right), \\left(\\begin{array}{rr}\n",
       "-\\frac{e^{\\left(-1\\right)}}{\\pi \\sigma^{6}} & 0 \\\\\n",
       "0 & -\\frac{e^{\\left(-1\\right)}}{\\pi \\sigma^{6}}\n",
       "\\end{array}\\right), \\left(\\begin{array}{rr}\n",
       "\\frac{e^{\\left(-1\\right)}}{\\pi \\sigma^{6}} & 0 \\\\\n",
       "0 & \\frac{e^{\\left(-1\\right)}}{\\pi \\sigma^{6}}\n",
       "\\end{array}\\right), \\left(\\begin{array}{rr}\n",
       "\\frac{e^{\\left(-1\\right)}}{\\pi \\sigma^{6}} & 0 \\\\\n",
       "0 & \\frac{e^{\\left(-1\\right)}}{\\pi \\sigma^{6}}\n",
       "\\end{array}\\right)\\right]</script></html>"
      ],
      "text/plain": [
       "[\n",
       "[               0 1/2/(pi*sigma^6)]\n",
       "[1/2/(pi*sigma^6)                0],\n",
       "\n",
       "[-e^(-1)/(pi*sigma^6)                    0]\n",
       "[                   0 -e^(-1)/(pi*sigma^6)],\n",
       "\n",
       "[-e^(-1)/(pi*sigma^6)                    0]\n",
       "[                   0 -e^(-1)/(pi*sigma^6)],\n",
       "\n",
       "[e^(-1)/(pi*sigma^6)                   0]\n",
       "[                  0 e^(-1)/(pi*sigma^6)],\n",
       "\n",
       "[e^(-1)/(pi*sigma^6)                   0]\n",
       "[                  0 e^(-1)/(pi*sigma^6)]\n",
       "]"
      ]
     },
     "execution_count": 108,
     "metadata": {},
     "output_type": "execute_result"
    }
   ],
   "source": [
    "# Matrices hessianas sobre los puntos críticos de la derivada xy de la gaussiana\n",
    "HHxy = [Hxy(x=0,y=0),Hxy(x=-sigma,y=-sigma),Hxy(x=sigma,y=sigma),Hxy(x=-sigma,y=sigma),Hxy(x=sigma,y=-sigma)]\n",
    "HHxy\n",
    "# Silla, Mínimo, Mínimo, Máximo, Máximo"
   ]
  },
  {
   "cell_type": "code",
   "execution_count": 109,
   "metadata": {},
   "outputs": [
    {
     "data": {
      "text/html": [
       "<html><script type=\"math/tex; mode=display\">\\newcommand{\\Bold}[1]{\\mathbf{#1}}\\left[\\left(\\begin{array}{rr}\n",
       "\\frac{3}{2 \\, \\pi \\sigma^{6}} & 0 \\\\\n",
       "0 & \\frac{1}{2 \\, \\pi \\sigma^{6}}\n",
       "\\end{array}\\right), \\left(\\begin{array}{rr}\n",
       "-\\frac{3 \\, e^{\\left(-\\frac{3}{2}\\right)}}{\\pi \\sigma^{6}} & 0 \\\\\n",
       "0 & -\\frac{e^{\\left(-\\frac{3}{2}\\right)}}{\\pi \\sigma^{6}}\n",
       "\\end{array}\\right), \\left(\\begin{array}{rr}\n",
       "-\\frac{3 \\, e^{\\left(-\\frac{3}{2}\\right)}}{\\pi \\sigma^{6}} & 0 \\\\\n",
       "0 & -\\frac{e^{\\left(-\\frac{3}{2}\\right)}}{\\pi \\sigma^{6}}\n",
       "\\end{array}\\right)\\right]</script></html>"
      ],
      "text/plain": [
       "[\n",
       "[3/2/(pi*sigma^6)                0]\n",
       "[               0 1/2/(pi*sigma^6)],\n",
       "\n",
       "[-3*e^(-3/2)/(pi*sigma^6)                        0]\n",
       "[                       0   -e^(-3/2)/(pi*sigma^6)],\n",
       "\n",
       "[-3*e^(-3/2)/(pi*sigma^6)                        0]\n",
       "[                       0   -e^(-3/2)/(pi*sigma^6)]\n",
       "]"
      ]
     },
     "execution_count": 109,
     "metadata": {},
     "output_type": "execute_result"
    }
   ],
   "source": [
    "# Matrices hessianas sobre los puntos críticos de la derivada xx de la gaussiana\n",
    "HHxx = [Hxx(x=0,y=0),Hxx(y=0,x=-sqrt(3)*sigma),Hxx(y=0,x=sqrt(3)*sigma)]\n",
    "HHxx\n",
    "# Mínimo, Máximo, Máximo"
   ]
  },
  {
   "cell_type": "code",
   "execution_count": 110,
   "metadata": {},
   "outputs": [
    {
     "data": {
      "text/html": [
       "<html><script type=\"math/tex; mode=display\">\\newcommand{\\Bold}[1]{\\mathbf{#1}}\\left[\\left(\\begin{array}{rr}\n",
       "\\frac{1}{2 \\, \\pi \\sigma^{6}} & 0 \\\\\n",
       "0 & \\frac{3}{2 \\, \\pi \\sigma^{6}}\n",
       "\\end{array}\\right), \\left(\\begin{array}{rr}\n",
       "-\\frac{e^{\\left(-\\frac{3}{2}\\right)}}{\\pi \\sigma^{6}} & 0 \\\\\n",
       "0 & -\\frac{3 \\, e^{\\left(-\\frac{3}{2}\\right)}}{\\pi \\sigma^{6}}\n",
       "\\end{array}\\right), \\left(\\begin{array}{rr}\n",
       "-\\frac{e^{\\left(-\\frac{3}{2}\\right)}}{\\pi \\sigma^{6}} & 0 \\\\\n",
       "0 & -\\frac{3 \\, e^{\\left(-\\frac{3}{2}\\right)}}{\\pi \\sigma^{6}}\n",
       "\\end{array}\\right)\\right]</script></html>"
      ],
      "text/plain": [
       "[\n",
       "[1/2/(pi*sigma^6)                0]\n",
       "[               0 3/2/(pi*sigma^6)],\n",
       "\n",
       "[  -e^(-3/2)/(pi*sigma^6)                        0]\n",
       "[                       0 -3*e^(-3/2)/(pi*sigma^6)],\n",
       "\n",
       "[  -e^(-3/2)/(pi*sigma^6)                        0]\n",
       "[                       0 -3*e^(-3/2)/(pi*sigma^6)]\n",
       "]"
      ]
     },
     "execution_count": 110,
     "metadata": {},
     "output_type": "execute_result"
    }
   ],
   "source": [
    "# Matrices hessianas sobre los puntos críticos de la derivada yy de la gaussiana\n",
    "HHyy = [Hyy(x=0,y=0),Hyy(x=0,y=-sqrt(3)*sigma),Hyy(x=0,y=sqrt(3)*sigma)]\n",
    "HHyy\n",
    "# Mínimo, Máximo, Máximo"
   ]
  },
  {
   "cell_type": "code",
   "execution_count": 111,
   "metadata": {},
   "outputs": [
    {
     "data": {
      "text/html": [
       "<html><script type=\"math/tex; mode=display\">\\newcommand{\\Bold}[1]{\\mathbf{#1}}\\left[-\\frac{1}{2 \\, \\pi \\sigma^{4}}, \\frac{e^{\\left(-\\frac{3}{2}\\right)}}{\\pi \\sigma^{4}}, \\frac{e^{\\left(-\\frac{3}{2}\\right)}}{\\pi \\sigma^{4}}\\right]</script></html>"
      ],
      "text/plain": [
       "[-1/2/(pi*sigma^4), e^(-3/2)/(pi*sigma^4), e^(-3/2)/(pi*sigma^4)]"
      ]
     },
     "execution_count": 111,
     "metadata": {},
     "output_type": "execute_result"
    }
   ],
   "source": [
    "# Valores en los puntos críticos de la derivada xx de la gaussiana\n",
    "vxx = [gxx(x=0,y=0),gxx(x=-sqrt(3)*sigma,y=0),gxx(x=sqrt(3)*sigma,y=0)]\n",
    "vxx"
   ]
  },
  {
   "cell_type": "code",
   "execution_count": 112,
   "metadata": {},
   "outputs": [
    {
     "data": {
      "text/html": [
       "<html><script type=\"math/tex; mode=display\">\\newcommand{\\Bold}[1]{\\mathbf{#1}}\\left[-\\frac{1}{2 \\, \\pi \\sigma^{4}}, \\frac{e^{\\left(-\\frac{3}{2}\\right)}}{\\pi \\sigma^{4}}, \\frac{e^{\\left(-\\frac{3}{2}\\right)}}{\\pi \\sigma^{4}}\\right]</script></html>"
      ],
      "text/plain": [
       "[-1/2/(pi*sigma^4), e^(-3/2)/(pi*sigma^4), e^(-3/2)/(pi*sigma^4)]"
      ]
     },
     "execution_count": 112,
     "metadata": {},
     "output_type": "execute_result"
    }
   ],
   "source": [
    "# Valores en los puntos críticos de la derivada yy de la gaussiana\n",
    "vyy = [gyy(x=0,y=0),gyy(y=-sqrt(3)*sigma,x=0),gyy(y=sqrt(3)*sigma,x=0)]\n",
    "vyy"
   ]
  },
  {
   "cell_type": "code",
   "execution_count": 113,
   "metadata": {},
   "outputs": [
    {
     "data": {
      "text/html": [
       "<html><script type=\"math/tex; mode=display\">\\newcommand{\\Bold}[1]{\\mathbf{#1}}\\left[0, \\frac{e^{\\left(-1\\right)}}{2 \\, \\pi \\sigma^{4}}, \\frac{e^{\\left(-1\\right)}}{2 \\, \\pi \\sigma^{4}}, -\\frac{e^{\\left(-1\\right)}}{2 \\, \\pi \\sigma^{4}}, -\\frac{e^{\\left(-1\\right)}}{2 \\, \\pi \\sigma^{4}}\\right]</script></html>"
      ],
      "text/plain": [
       "[0,\n",
       " 1/2*e^(-1)/(pi*sigma^4),\n",
       " 1/2*e^(-1)/(pi*sigma^4),\n",
       " -1/2*e^(-1)/(pi*sigma^4),\n",
       " -1/2*e^(-1)/(pi*sigma^4)]"
      ]
     },
     "execution_count": 113,
     "metadata": {},
     "output_type": "execute_result"
    }
   ],
   "source": [
    "# Valores en los puntos críticos de la derivada xy de la gaussiana\n",
    "vxy = [gxy(x=0,y=0),gxy(x=sigma,y=sigma),gxy(x=-sigma,y=-sigma),gxy(x=-sigma,y=sigma),gxy(x=sigma,y=-sigma)]\n",
    "vxy"
   ]
  },
  {
   "cell_type": "code",
   "execution_count": 114,
   "metadata": {},
   "outputs": [
    {
     "name": "stdout",
     "output_type": "stream",
     "text": [
      "-0.0767529625250267\n",
      "0.0342518016401513\n",
      "0.0342518016401513\n"
     ]
    }
   ],
   "source": [
    "# SURF toma las aproximaciones (-2,1,1) y afirma que es una aproximacón con sigma = 1.2\n",
    "for i in range(0,3):\n",
    "    print(numerical_approx(vxx[i](sigma=1.2)))"
   ]
  },
  {
   "cell_type": "code",
   "execution_count": 115,
   "metadata": {},
   "outputs": [
    {
     "name": "stdout",
     "output_type": "stream",
     "text": [
      "-0.0767529625250267\n",
      "0.0342518016401513\n",
      "0.0342518016401513\n"
     ]
    }
   ],
   "source": [
    "# SURF toma las aproximaciones (-2,1,1) y afirma que es una aproximacón con sigma = 1.2\n",
    "for i in range(0,3):\n",
    "    print(numerical_approx(vyy[i](sigma=1.2)))"
   ]
  },
  {
   "cell_type": "code",
   "execution_count": 116,
   "metadata": {},
   "outputs": [
    {
     "name": "stdout",
     "output_type": "stream",
     "text": [
      "0.000000000000000\n",
      "0.0282358369619595\n",
      "0.0282358369619595\n",
      "-0.0282358369619595\n",
      "-0.0282358369619595\n"
     ]
    }
   ],
   "source": [
    "# SURF toma las aproximaciones (0,1,1,-1,-1) y afirma que es una aproximacón con sigma = 1.2\n",
    "for i in range(0,5):\n",
    "    print(numerical_approx(vxy[i](sigma=1.2)))"
   ]
  },
  {
   "cell_type": "code",
   "execution_count": 117,
   "metadata": {},
   "outputs": [
    {
     "data": {
      "text/html": [
       "<html><script type=\"math/tex; mode=display\">\\newcommand{\\Bold}[1]{\\mathbf{#1}}\\left[-\\frac{1}{2} \\, e^{\\frac{3}{2}}, -\\frac{1}{2} \\, e^{\\frac{3}{2}}, -1, -2.24084453516903\\right]</script></html>"
      ],
      "text/plain": [
       "[-1/2*e^(3/2), -1/2*e^(3/2), -1, -2.24084453516903]"
      ]
     },
     "execution_count": 117,
     "metadata": {},
     "output_type": "execute_result"
    }
   ],
   "source": [
    "# La razón entre máximos y mínimos es constante\n",
    "r1 = vxx[0]/vxx[1]\n",
    "r2 = vyy[0]/vyy[1]\n",
    "r3 = vxy[1]/vxy[3]\n",
    "[r1,r2,r3, numerical_approx(r1)]"
   ]
  }
 ],
 "metadata": {
  "kernelspec": {
   "display_name": "SageMath 8.1",
   "language": "",
   "name": "sagemath"
  },
  "language_info": {
   "codemirror_mode": {
    "name": "ipython",
    "version": 2
   },
   "file_extension": ".py",
   "mimetype": "text/x-python",
   "name": "python",
   "nbconvert_exporter": "python",
   "pygments_lexer": "ipython2",
   "version": "2.7.15rc1"
  }
 },
 "nbformat": 4,
 "nbformat_minor": 2
}
